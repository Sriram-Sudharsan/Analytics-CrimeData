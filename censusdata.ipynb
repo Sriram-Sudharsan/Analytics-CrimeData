{
  "nbformat": 4,
  "nbformat_minor": 0,
  "metadata": {
    "colab": {
      "name": "censusdata.ipynb",
      "provenance": [],
      "collapsed_sections": [],
      "authorship_tag": "ABX9TyN7KnfJb/6oHEW2BPIYycQs",
      "include_colab_link": true
    },
    "kernelspec": {
      "name": "python3",
      "display_name": "Python 3"
    },
    "language_info": {
      "name": "python"
    }
  },
  "cells": [
    {
      "cell_type": "markdown",
      "metadata": {
        "id": "view-in-github",
        "colab_type": "text"
      },
      "source": [
        "<a href=\"https://colab.research.google.com/github/Sriram-Sudharsan/Analytics-CrimeData/blob/main/censusdata.ipynb\" target=\"_parent\"><img src=\"https://colab.research.google.com/assets/colab-badge.svg\" alt=\"Open In Colab\"/></a>"
      ]
    },
    {
      "cell_type": "markdown",
      "metadata": {
        "id": "dPpw7cE7q8-S"
      },
      "source": [
        "World Suicide Rate Analysis"
      ]
    },
    {
      "cell_type": "code",
      "metadata": {
        "id": "AgIQCcT2qlJl"
      },
      "source": [
        "import pandas as pd\n",
        "import numpy as np\n",
        "import seaborn as sns\n",
        "import warnings"
      ],
      "execution_count": 3,
      "outputs": []
    },
    {
      "cell_type": "code",
      "metadata": {
        "id": "TUIO8AdfqqdI"
      },
      "source": [
        "warnings.filterwarnings(\"ignore\")"
      ],
      "execution_count": 4,
      "outputs": []
    },
    {
      "cell_type": "code",
      "metadata": {
        "id": "GK2FR0TVq36r"
      },
      "source": [
        "import matplotlib.pyplot as plt"
      ],
      "execution_count": 28,
      "outputs": []
    },
    {
      "cell_type": "code",
      "metadata": {
        "id": "6fVUHKGcrHUS"
      },
      "source": [
        "url = 'https://raw.githubusercontent.com/Sriram-Sudharsan/Analytics-CrimeData/main/CrimeDataSet.csv'\n",
        "df = pd.read_csv(url)"
      ],
      "execution_count": 38,
      "outputs": []
    },
    {
      "cell_type": "code",
      "metadata": {
        "colab": {
          "base_uri": "https://localhost:8080/",
          "height": 428
        },
        "id": "iVevl8cqvwp4",
        "outputId": "c993668f-2aca-439b-aeed-6aa911b4bc7a"
      },
      "source": [
        "df.head()"
      ],
      "execution_count": 39,
      "outputs": [
        {
          "output_type": "execute_result",
          "data": {
            "text/html": [
              "<div>\n",
              "<style scoped>\n",
              "    .dataframe tbody tr th:only-of-type {\n",
              "        vertical-align: middle;\n",
              "    }\n",
              "\n",
              "    .dataframe tbody tr th {\n",
              "        vertical-align: top;\n",
              "    }\n",
              "\n",
              "    .dataframe thead th {\n",
              "        text-align: right;\n",
              "    }\n",
              "</style>\n",
              "<table border=\"1\" class=\"dataframe\">\n",
              "  <thead>\n",
              "    <tr style=\"text-align: right;\">\n",
              "      <th></th>\n",
              "      <th>country</th>\n",
              "      <th>year</th>\n",
              "      <th>sex</th>\n",
              "      <th>age</th>\n",
              "      <th>suicides_no</th>\n",
              "      <th>population</th>\n",
              "      <th>suicides/100k pop</th>\n",
              "      <th>country-year</th>\n",
              "      <th>HDI for year</th>\n",
              "      <th>gdp_for_year ($)</th>\n",
              "      <th>gdp_per_capita ($)</th>\n",
              "      <th>generation</th>\n",
              "    </tr>\n",
              "  </thead>\n",
              "  <tbody>\n",
              "    <tr>\n",
              "      <th>0</th>\n",
              "      <td>Albania</td>\n",
              "      <td>1987</td>\n",
              "      <td>male</td>\n",
              "      <td>15-24 years</td>\n",
              "      <td>21</td>\n",
              "      <td>312900</td>\n",
              "      <td>6.71</td>\n",
              "      <td>Albania1987</td>\n",
              "      <td>NaN</td>\n",
              "      <td>2,156,624,900</td>\n",
              "      <td>796</td>\n",
              "      <td>Generation X</td>\n",
              "    </tr>\n",
              "    <tr>\n",
              "      <th>1</th>\n",
              "      <td>Albania</td>\n",
              "      <td>1987</td>\n",
              "      <td>male</td>\n",
              "      <td>35-54 years</td>\n",
              "      <td>16</td>\n",
              "      <td>308000</td>\n",
              "      <td>5.19</td>\n",
              "      <td>Albania1987</td>\n",
              "      <td>NaN</td>\n",
              "      <td>2,156,624,900</td>\n",
              "      <td>796</td>\n",
              "      <td>Silent</td>\n",
              "    </tr>\n",
              "    <tr>\n",
              "      <th>2</th>\n",
              "      <td>Albania</td>\n",
              "      <td>1987</td>\n",
              "      <td>female</td>\n",
              "      <td>15-24 years</td>\n",
              "      <td>14</td>\n",
              "      <td>289700</td>\n",
              "      <td>4.83</td>\n",
              "      <td>Albania1987</td>\n",
              "      <td>NaN</td>\n",
              "      <td>2,156,624,900</td>\n",
              "      <td>796</td>\n",
              "      <td>Generation X</td>\n",
              "    </tr>\n",
              "    <tr>\n",
              "      <th>3</th>\n",
              "      <td>Albania</td>\n",
              "      <td>1987</td>\n",
              "      <td>male</td>\n",
              "      <td>75+ years</td>\n",
              "      <td>1</td>\n",
              "      <td>21800</td>\n",
              "      <td>4.59</td>\n",
              "      <td>Albania1987</td>\n",
              "      <td>NaN</td>\n",
              "      <td>2,156,624,900</td>\n",
              "      <td>796</td>\n",
              "      <td>G.I. Generation</td>\n",
              "    </tr>\n",
              "    <tr>\n",
              "      <th>4</th>\n",
              "      <td>Albania</td>\n",
              "      <td>1987</td>\n",
              "      <td>male</td>\n",
              "      <td>25-34 years</td>\n",
              "      <td>9</td>\n",
              "      <td>274300</td>\n",
              "      <td>3.28</td>\n",
              "      <td>Albania1987</td>\n",
              "      <td>NaN</td>\n",
              "      <td>2,156,624,900</td>\n",
              "      <td>796</td>\n",
              "      <td>Boomers</td>\n",
              "    </tr>\n",
              "  </tbody>\n",
              "</table>\n",
              "</div>"
            ],
            "text/plain": [
              "   country  year  ... gdp_per_capita ($)       generation\n",
              "0  Albania  1987  ...                796     Generation X\n",
              "1  Albania  1987  ...                796           Silent\n",
              "2  Albania  1987  ...                796     Generation X\n",
              "3  Albania  1987  ...                796  G.I. Generation\n",
              "4  Albania  1987  ...                796          Boomers\n",
              "\n",
              "[5 rows x 12 columns]"
            ]
          },
          "metadata": {
            "tags": []
          },
          "execution_count": 39
        }
      ]
    },
    {
      "cell_type": "code",
      "metadata": {
        "id": "qnq_PM9yv-Ty"
      },
      "source": [
        "df.drop('country-year',axis=1,inplace=True)"
      ],
      "execution_count": 40,
      "outputs": []
    },
    {
      "cell_type": "code",
      "metadata": {
        "colab": {
          "base_uri": "https://localhost:8080/",
          "height": 776
        },
        "id": "Q-wR5HGgwQ11",
        "outputId": "2b0af79d-ad43-4b45-de16-375db64b258d"
      },
      "source": [
        "df"
      ],
      "execution_count": 41,
      "outputs": [
        {
          "output_type": "execute_result",
          "data": {
            "text/html": [
              "<div>\n",
              "<style scoped>\n",
              "    .dataframe tbody tr th:only-of-type {\n",
              "        vertical-align: middle;\n",
              "    }\n",
              "\n",
              "    .dataframe tbody tr th {\n",
              "        vertical-align: top;\n",
              "    }\n",
              "\n",
              "    .dataframe thead th {\n",
              "        text-align: right;\n",
              "    }\n",
              "</style>\n",
              "<table border=\"1\" class=\"dataframe\">\n",
              "  <thead>\n",
              "    <tr style=\"text-align: right;\">\n",
              "      <th></th>\n",
              "      <th>country</th>\n",
              "      <th>year</th>\n",
              "      <th>sex</th>\n",
              "      <th>age</th>\n",
              "      <th>suicides_no</th>\n",
              "      <th>population</th>\n",
              "      <th>suicides/100k pop</th>\n",
              "      <th>HDI for year</th>\n",
              "      <th>gdp_for_year ($)</th>\n",
              "      <th>gdp_per_capita ($)</th>\n",
              "      <th>generation</th>\n",
              "    </tr>\n",
              "  </thead>\n",
              "  <tbody>\n",
              "    <tr>\n",
              "      <th>0</th>\n",
              "      <td>Albania</td>\n",
              "      <td>1987</td>\n",
              "      <td>male</td>\n",
              "      <td>15-24 years</td>\n",
              "      <td>21</td>\n",
              "      <td>312900</td>\n",
              "      <td>6.71</td>\n",
              "      <td>NaN</td>\n",
              "      <td>2,156,624,900</td>\n",
              "      <td>796</td>\n",
              "      <td>Generation X</td>\n",
              "    </tr>\n",
              "    <tr>\n",
              "      <th>1</th>\n",
              "      <td>Albania</td>\n",
              "      <td>1987</td>\n",
              "      <td>male</td>\n",
              "      <td>35-54 years</td>\n",
              "      <td>16</td>\n",
              "      <td>308000</td>\n",
              "      <td>5.19</td>\n",
              "      <td>NaN</td>\n",
              "      <td>2,156,624,900</td>\n",
              "      <td>796</td>\n",
              "      <td>Silent</td>\n",
              "    </tr>\n",
              "    <tr>\n",
              "      <th>2</th>\n",
              "      <td>Albania</td>\n",
              "      <td>1987</td>\n",
              "      <td>female</td>\n",
              "      <td>15-24 years</td>\n",
              "      <td>14</td>\n",
              "      <td>289700</td>\n",
              "      <td>4.83</td>\n",
              "      <td>NaN</td>\n",
              "      <td>2,156,624,900</td>\n",
              "      <td>796</td>\n",
              "      <td>Generation X</td>\n",
              "    </tr>\n",
              "    <tr>\n",
              "      <th>3</th>\n",
              "      <td>Albania</td>\n",
              "      <td>1987</td>\n",
              "      <td>male</td>\n",
              "      <td>75+ years</td>\n",
              "      <td>1</td>\n",
              "      <td>21800</td>\n",
              "      <td>4.59</td>\n",
              "      <td>NaN</td>\n",
              "      <td>2,156,624,900</td>\n",
              "      <td>796</td>\n",
              "      <td>G.I. Generation</td>\n",
              "    </tr>\n",
              "    <tr>\n",
              "      <th>4</th>\n",
              "      <td>Albania</td>\n",
              "      <td>1987</td>\n",
              "      <td>male</td>\n",
              "      <td>25-34 years</td>\n",
              "      <td>9</td>\n",
              "      <td>274300</td>\n",
              "      <td>3.28</td>\n",
              "      <td>NaN</td>\n",
              "      <td>2,156,624,900</td>\n",
              "      <td>796</td>\n",
              "      <td>Boomers</td>\n",
              "    </tr>\n",
              "    <tr>\n",
              "      <th>...</th>\n",
              "      <td>...</td>\n",
              "      <td>...</td>\n",
              "      <td>...</td>\n",
              "      <td>...</td>\n",
              "      <td>...</td>\n",
              "      <td>...</td>\n",
              "      <td>...</td>\n",
              "      <td>...</td>\n",
              "      <td>...</td>\n",
              "      <td>...</td>\n",
              "      <td>...</td>\n",
              "    </tr>\n",
              "    <tr>\n",
              "      <th>27815</th>\n",
              "      <td>Uzbekistan</td>\n",
              "      <td>2014</td>\n",
              "      <td>female</td>\n",
              "      <td>35-54 years</td>\n",
              "      <td>107</td>\n",
              "      <td>3620833</td>\n",
              "      <td>2.96</td>\n",
              "      <td>0.675</td>\n",
              "      <td>63,067,077,179</td>\n",
              "      <td>2309</td>\n",
              "      <td>Generation X</td>\n",
              "    </tr>\n",
              "    <tr>\n",
              "      <th>27816</th>\n",
              "      <td>Uzbekistan</td>\n",
              "      <td>2014</td>\n",
              "      <td>female</td>\n",
              "      <td>75+ years</td>\n",
              "      <td>9</td>\n",
              "      <td>348465</td>\n",
              "      <td>2.58</td>\n",
              "      <td>0.675</td>\n",
              "      <td>63,067,077,179</td>\n",
              "      <td>2309</td>\n",
              "      <td>Silent</td>\n",
              "    </tr>\n",
              "    <tr>\n",
              "      <th>27817</th>\n",
              "      <td>Uzbekistan</td>\n",
              "      <td>2014</td>\n",
              "      <td>male</td>\n",
              "      <td>5-14 years</td>\n",
              "      <td>60</td>\n",
              "      <td>2762158</td>\n",
              "      <td>2.17</td>\n",
              "      <td>0.675</td>\n",
              "      <td>63,067,077,179</td>\n",
              "      <td>2309</td>\n",
              "      <td>Generation Z</td>\n",
              "    </tr>\n",
              "    <tr>\n",
              "      <th>27818</th>\n",
              "      <td>Uzbekistan</td>\n",
              "      <td>2014</td>\n",
              "      <td>female</td>\n",
              "      <td>5-14 years</td>\n",
              "      <td>44</td>\n",
              "      <td>2631600</td>\n",
              "      <td>1.67</td>\n",
              "      <td>0.675</td>\n",
              "      <td>63,067,077,179</td>\n",
              "      <td>2309</td>\n",
              "      <td>Generation Z</td>\n",
              "    </tr>\n",
              "    <tr>\n",
              "      <th>27819</th>\n",
              "      <td>Uzbekistan</td>\n",
              "      <td>2014</td>\n",
              "      <td>female</td>\n",
              "      <td>55-74 years</td>\n",
              "      <td>21</td>\n",
              "      <td>1438935</td>\n",
              "      <td>1.46</td>\n",
              "      <td>0.675</td>\n",
              "      <td>63,067,077,179</td>\n",
              "      <td>2309</td>\n",
              "      <td>Boomers</td>\n",
              "    </tr>\n",
              "  </tbody>\n",
              "</table>\n",
              "<p>27820 rows × 11 columns</p>\n",
              "</div>"
            ],
            "text/plain": [
              "          country  year  ... gdp_per_capita ($)       generation\n",
              "0         Albania  1987  ...                796     Generation X\n",
              "1         Albania  1987  ...                796           Silent\n",
              "2         Albania  1987  ...                796     Generation X\n",
              "3         Albania  1987  ...                796  G.I. Generation\n",
              "4         Albania  1987  ...                796          Boomers\n",
              "...           ...   ...  ...                ...              ...\n",
              "27815  Uzbekistan  2014  ...               2309     Generation X\n",
              "27816  Uzbekistan  2014  ...               2309           Silent\n",
              "27817  Uzbekistan  2014  ...               2309     Generation Z\n",
              "27818  Uzbekistan  2014  ...               2309     Generation Z\n",
              "27819  Uzbekistan  2014  ...               2309          Boomers\n",
              "\n",
              "[27820 rows x 11 columns]"
            ]
          },
          "metadata": {
            "tags": []
          },
          "execution_count": 41
        }
      ]
    },
    {
      "cell_type": "markdown",
      "metadata": {
        "id": "2jDJFlxQwpO8"
      },
      "source": [
        "Overview of the dataset"
      ]
    },
    {
      "cell_type": "code",
      "metadata": {
        "colab": {
          "base_uri": "https://localhost:8080/",
          "height": 344
        },
        "id": "cbgr9c9ywR1D",
        "outputId": "ee02b63a-ae53-4542-e0fa-0d647450c03a"
      },
      "source": [
        "df.describe()"
      ],
      "execution_count": 42,
      "outputs": [
        {
          "output_type": "execute_result",
          "data": {
            "text/html": [
              "<div>\n",
              "<style scoped>\n",
              "    .dataframe tbody tr th:only-of-type {\n",
              "        vertical-align: middle;\n",
              "    }\n",
              "\n",
              "    .dataframe tbody tr th {\n",
              "        vertical-align: top;\n",
              "    }\n",
              "\n",
              "    .dataframe thead th {\n",
              "        text-align: right;\n",
              "    }\n",
              "</style>\n",
              "<table border=\"1\" class=\"dataframe\">\n",
              "  <thead>\n",
              "    <tr style=\"text-align: right;\">\n",
              "      <th></th>\n",
              "      <th>year</th>\n",
              "      <th>suicides_no</th>\n",
              "      <th>population</th>\n",
              "      <th>suicides/100k pop</th>\n",
              "      <th>HDI for year</th>\n",
              "      <th>gdp_per_capita ($)</th>\n",
              "    </tr>\n",
              "  </thead>\n",
              "  <tbody>\n",
              "    <tr>\n",
              "      <th>count</th>\n",
              "      <td>27820.000000</td>\n",
              "      <td>27820.000000</td>\n",
              "      <td>2.782000e+04</td>\n",
              "      <td>27820.000000</td>\n",
              "      <td>8364.000000</td>\n",
              "      <td>27820.000000</td>\n",
              "    </tr>\n",
              "    <tr>\n",
              "      <th>mean</th>\n",
              "      <td>2001.258375</td>\n",
              "      <td>242.574407</td>\n",
              "      <td>1.844794e+06</td>\n",
              "      <td>12.816097</td>\n",
              "      <td>0.776601</td>\n",
              "      <td>16866.464414</td>\n",
              "    </tr>\n",
              "    <tr>\n",
              "      <th>std</th>\n",
              "      <td>8.469055</td>\n",
              "      <td>902.047917</td>\n",
              "      <td>3.911779e+06</td>\n",
              "      <td>18.961511</td>\n",
              "      <td>0.093367</td>\n",
              "      <td>18887.576472</td>\n",
              "    </tr>\n",
              "    <tr>\n",
              "      <th>min</th>\n",
              "      <td>1985.000000</td>\n",
              "      <td>0.000000</td>\n",
              "      <td>2.780000e+02</td>\n",
              "      <td>0.000000</td>\n",
              "      <td>0.483000</td>\n",
              "      <td>251.000000</td>\n",
              "    </tr>\n",
              "    <tr>\n",
              "      <th>25%</th>\n",
              "      <td>1995.000000</td>\n",
              "      <td>3.000000</td>\n",
              "      <td>9.749850e+04</td>\n",
              "      <td>0.920000</td>\n",
              "      <td>0.713000</td>\n",
              "      <td>3447.000000</td>\n",
              "    </tr>\n",
              "    <tr>\n",
              "      <th>50%</th>\n",
              "      <td>2002.000000</td>\n",
              "      <td>25.000000</td>\n",
              "      <td>4.301500e+05</td>\n",
              "      <td>5.990000</td>\n",
              "      <td>0.779000</td>\n",
              "      <td>9372.000000</td>\n",
              "    </tr>\n",
              "    <tr>\n",
              "      <th>75%</th>\n",
              "      <td>2008.000000</td>\n",
              "      <td>131.000000</td>\n",
              "      <td>1.486143e+06</td>\n",
              "      <td>16.620000</td>\n",
              "      <td>0.855000</td>\n",
              "      <td>24874.000000</td>\n",
              "    </tr>\n",
              "    <tr>\n",
              "      <th>max</th>\n",
              "      <td>2016.000000</td>\n",
              "      <td>22338.000000</td>\n",
              "      <td>4.380521e+07</td>\n",
              "      <td>224.970000</td>\n",
              "      <td>0.944000</td>\n",
              "      <td>126352.000000</td>\n",
              "    </tr>\n",
              "  </tbody>\n",
              "</table>\n",
              "</div>"
            ],
            "text/plain": [
              "               year   suicides_no  ...  HDI for year  gdp_per_capita ($)\n",
              "count  27820.000000  27820.000000  ...   8364.000000        27820.000000\n",
              "mean    2001.258375    242.574407  ...      0.776601        16866.464414\n",
              "std        8.469055    902.047917  ...      0.093367        18887.576472\n",
              "min     1985.000000      0.000000  ...      0.483000          251.000000\n",
              "25%     1995.000000      3.000000  ...      0.713000         3447.000000\n",
              "50%     2002.000000     25.000000  ...      0.779000         9372.000000\n",
              "75%     2008.000000    131.000000  ...      0.855000        24874.000000\n",
              "max     2016.000000  22338.000000  ...      0.944000       126352.000000\n",
              "\n",
              "[8 rows x 6 columns]"
            ]
          },
          "metadata": {
            "tags": []
          },
          "execution_count": 42
        }
      ]
    },
    {
      "cell_type": "code",
      "metadata": {
        "colab": {
          "base_uri": "https://localhost:8080/"
        },
        "id": "07q9i_mCwmCv",
        "outputId": "ce26951f-b9c4-4470-fe58-ac32b6db508c"
      },
      "source": [
        "df.info()"
      ],
      "execution_count": 43,
      "outputs": [
        {
          "output_type": "stream",
          "text": [
            "<class 'pandas.core.frame.DataFrame'>\n",
            "RangeIndex: 27820 entries, 0 to 27819\n",
            "Data columns (total 11 columns):\n",
            " #   Column              Non-Null Count  Dtype  \n",
            "---  ------              --------------  -----  \n",
            " 0   country             27820 non-null  object \n",
            " 1   year                27820 non-null  int64  \n",
            " 2   sex                 27820 non-null  object \n",
            " 3   age                 27820 non-null  object \n",
            " 4   suicides_no         27820 non-null  int64  \n",
            " 5   population          27820 non-null  int64  \n",
            " 6   suicides/100k pop   27820 non-null  float64\n",
            " 7   HDI for year        8364 non-null   float64\n",
            " 8    gdp_for_year ($)   27820 non-null  object \n",
            " 9   gdp_per_capita ($)  27820 non-null  int64  \n",
            " 10  generation          27820 non-null  object \n",
            "dtypes: float64(2), int64(4), object(5)\n",
            "memory usage: 2.3+ MB\n"
          ],
          "name": "stdout"
        }
      ]
    },
    {
      "cell_type": "markdown",
      "metadata": {
        "id": "geZ_eUdrxKoS"
      },
      "source": [
        "Formatting the feature names and data types for easier access\n",
        "\n",
        "Also converting GDP for Year into integer type"
      ]
    },
    {
      "cell_type": "code",
      "metadata": {
        "id": "thal8zOxwzkr"
      },
      "source": [
        "df[' gdp_for_year ($) ']=df[' gdp_for_year ($) '].str.replace(',',\"\")\n",
        "df['GDP for year'] = df[' gdp_for_year ($) '].astype(\"int64\")\n",
        "df['GDP per capita'] = df['gdp_per_capita ($)'].astype(\"int64\")"
      ],
      "execution_count": 44,
      "outputs": []
    },
    {
      "cell_type": "markdown",
      "metadata": {
        "id": "TGl8_rEEylWU"
      },
      "source": [
        "Post changes"
      ]
    },
    {
      "cell_type": "code",
      "metadata": {
        "colab": {
          "base_uri": "https://localhost:8080/"
        },
        "id": "4O2--JcoxlWV",
        "outputId": "28917349-a47d-4d5e-a381-f45408ff882b"
      },
      "source": [
        "df.drop([' gdp_for_year ($) ', 'gdp_per_capita ($)'], axis = 1, inplace = True)\n",
        "df[[\"country\", \"sex\", \"generation\", \"age\"]] = df[[\"country\", \"sex\", \"generation\", \"age\"]].apply(lambda x: x.astype('category'))\n",
        "df.info()\n"
      ],
      "execution_count": 45,
      "outputs": [
        {
          "output_type": "stream",
          "text": [
            "<class 'pandas.core.frame.DataFrame'>\n",
            "RangeIndex: 27820 entries, 0 to 27819\n",
            "Data columns (total 11 columns):\n",
            " #   Column             Non-Null Count  Dtype   \n",
            "---  ------             --------------  -----   \n",
            " 0   country            27820 non-null  category\n",
            " 1   year               27820 non-null  int64   \n",
            " 2   sex                27820 non-null  category\n",
            " 3   age                27820 non-null  category\n",
            " 4   suicides_no        27820 non-null  int64   \n",
            " 5   population         27820 non-null  int64   \n",
            " 6   suicides/100k pop  27820 non-null  float64 \n",
            " 7   HDI for year       8364 non-null   float64 \n",
            " 8   generation         27820 non-null  category\n",
            " 9   GDP for year       27820 non-null  int64   \n",
            " 10  GDP per capita     27820 non-null  int64   \n",
            "dtypes: category(4), float64(2), int64(5)\n",
            "memory usage: 1.6 MB\n"
          ],
          "name": "stdout"
        }
      ]
    },
    {
      "cell_type": "markdown",
      "metadata": {
        "id": "aOYRSucN8Y64"
      },
      "source": [
        ""
      ]
    },
    {
      "cell_type": "code",
      "metadata": {
        "colab": {
          "base_uri": "https://localhost:8080/"
        },
        "id": "XUkRugic8fax",
        "outputId": "8bbdd144-86f6-47b7-c270-531cbf4449a0"
      },
      "source": [
        "df['age'].unique()\n"
      ],
      "execution_count": 65,
      "outputs": [
        {
          "output_type": "execute_result",
          "data": {
            "text/plain": [
              "['15-24 years', '35-54 years', '75+ years', '25-34 years', '55-74 years', '5-14 years']\n",
              "Categories (6, object): ['15-24 years', '35-54 years', '75+ years', '25-34 years', '55-74 years',\n",
              "                         '5-14 years']"
            ]
          },
          "metadata": {
            "tags": []
          },
          "execution_count": 65
        }
      ]
    },
    {
      "cell_type": "code",
      "metadata": {
        "colab": {
          "base_uri": "https://localhost:8080/"
        },
        "id": "OcUcR0wS8cIw",
        "outputId": "63cee296-3be0-4af5-b398-828639efd339"
      },
      "source": [
        "df['generation'].unique()"
      ],
      "execution_count": 67,
      "outputs": [
        {
          "output_type": "execute_result",
          "data": {
            "text/plain": [
              "['Generation X', 'Silent', 'G.I. Generation', 'Boomers', 'Millenials', 'Generation Z']\n",
              "Categories (6, object): ['Generation X', 'Silent', 'G.I. Generation', 'Boomers', 'Millenials',\n",
              "                         'Generation Z']"
            ]
          },
          "metadata": {
            "tags": []
          },
          "execution_count": 67
        }
      ]
    },
    {
      "cell_type": "markdown",
      "metadata": {
        "id": "Vdxv5V-WzPj8"
      },
      "source": [
        "Visualisation for distribution of total number of Suicides"
      ]
    },
    {
      "cell_type": "code",
      "metadata": {
        "colab": {
          "base_uri": "https://localhost:8080/",
          "height": 397
        },
        "id": "gBg91-4IxnAF",
        "outputId": "1c0a4ea8-4a93-45be-f592-15ee6e9421a4"
      },
      "source": [
        "\n",
        "f, (ax1) = plt.subplots(1, figsize=(15,6))\n",
        "grouped_gen1=df.groupby(\"generation\")['suicides_no'].sum()\n",
        "x1=grouped_gen1.index.tolist()\n",
        "y1=grouped_gen1.values.tolist()\n",
        "ax1.pie(y1,labels=x1, autopct='%1.1f%%', shadow=True, pctdistance=0.7, textprops={'fontsize': 14})\n",
        "ax1.set_title(\"NUMBER OF SUICIDES\", fontsize=22, color='b')"
      ],
      "execution_count": 54,
      "outputs": [
        {
          "output_type": "execute_result",
          "data": {
            "text/plain": [
              "Text(0.5, 1.0, 'NUMBER OF SUICIDES')"
            ]
          },
          "metadata": {
            "tags": []
          },
          "execution_count": 54
        },
        {
          "output_type": "display_data",
          "data": {
            "image/png": "[encoded data removed]",
            "text/plain": [
              "<Figure size 1080x432 with 1 Axes>"
            ]
          },
          "metadata": {
            "tags": []
          }
        }
      ]
    },
    {
      "cell_type": "code",
      "metadata": {
        "colab": {
          "base_uri": "https://localhost:8080/",
          "height": 441
        },
        "id": "T1nRHWt-0IaO",
        "outputId": "28639c5c-f1a5-4dd5-bee8-ffb1d0628d9f"
      },
      "source": [
        "f, (ax2) = plt.subplots(1, figsize=(15,6))\n",
        "grouped_gen2=df.groupby(\"generation\")['suicides/100k pop'].sum()\n",
        "x2=grouped_gen2.index.tolist()\n",
        "y2=grouped_gen2.values.tolist()\n",
        "ax2.pie(y2,labels=x2, autopct='%1.1f%%', shadow=True, pctdistance=0.7, textprops={'fontsize': 14})\n",
        "ax2.set_title(\"SUICIDES/100k pop\", fontsize=18, color='r')\n",
        "plt.tight_layout()\n",
        "plt.draw()"
      ],
      "execution_count": 60,
      "outputs": [
        {
          "output_type": "display_data",
          "data": {
            "image/png": "[encoded data removed]",
            "text/plain": [
              "<Figure size 1080x432 with 1 Axes>"
            ]
          },
          "metadata": {
            "tags": []
          }
        }
      ]
    },
    {
      "cell_type": "markdown",
      "metadata": {
        "id": "KEqAuU_o7m-z"
      },
      "source": [
        "Discarding HDI feature \n"
      ]
    },
    {
      "cell_type": "code",
      "metadata": {
        "id": "iBNLta3a02VI"
      },
      "source": [
        "df.drop(['HDI for year'], inplace=True, axis = 1)\n"
      ],
      "execution_count": 62,
      "outputs": []
    },
    {
      "cell_type": "markdown",
      "metadata": {
        "id": "TdN10fhL7cUR"
      },
      "source": [
        ""
      ]
    },
    {
      "cell_type": "markdown",
      "metadata": {
        "id": "amxYOLIk9SBw"
      },
      "source": [
        "To identify whether suicide rates have a correlation with a country's tier, we generate a list of first, second and third world countries."
      ]
    },
    {
      "cell_type": "code",
      "metadata": {
        "id": "3tbvO_dB8UsY"
      },
      "source": [
        "developed = ['Israel', 'Singapore', 'Denmark', 'Finland', 'Norway', 'Ireland',\n",
        "              'New Zeland', 'Slovenia', 'Estonia', 'Cyprus', 'Luxembourg', 'Iceland','United States', 'Germany', 'Japan', 'Turkey', 'United Kingdom', 'France', 'Italy', 'South Korea',\n",
        "              'Spain', 'Canada', 'Australia', 'Netherlands', 'Belgium', 'Greece', 'Portugal', \n",
        "              'Sweden', 'Austria', 'Switzerland' ]"
      ],
      "execution_count": 68,
      "outputs": []
    },
    {
      "cell_type": "code",
      "metadata": {
        "id": "Fe606QTI8V6R"
      },
      "source": [
        "developing=['Albania', 'Armenia', 'Lithuania', 'Latvia', 'Brazil', 'Chile', 'Argentina',\n",
        "               'China', 'India', 'Bolivia', 'Romenia','Russian Federation', 'Ukraine', 'Poland', 'Uzbekistan', 'Romania', 'Kazakhstan', 'Azerbaijan', 'Czech Republic',\n",
        "               'Hungary', 'Belarus', 'Tajikistan', 'Serbia', 'Bulgaria', 'Slovakia', 'Croatia', 'Maldova', 'Georgia',\n",
        "               'Bosnia And Herzegovina']\n"
      ],
      "execution_count": 70,
      "outputs": []
    },
    {
      "cell_type": "code",
      "metadata": {
        "id": "ByyKDZga-MQZ"
      },
      "source": [
        "\n",
        "countries = []\n",
        "for i in range(len(df)):\n",
        "    \n",
        "    if df['country'][i] in developed:\n",
        "        countries.append(1)\n",
        "    elif df['country'][i] in developing:\n",
        "        countries.append(2)\n",
        "    else:\n",
        "        countries.append(3)\n",
        "\n",
        "df['country_tier'] = countries"
      ],
      "execution_count": 71,
      "outputs": []
    },
    {
      "cell_type": "code",
      "metadata": {
        "id": "oLCkICbc_vtK"
      },
      "source": [
        ""
      ],
      "execution_count": 73,
      "outputs": []
    },
    {
      "cell_type": "markdown",
      "metadata": {
        "id": "mX5MhmhgANZs"
      },
      "source": [
        "### **Suicide vs Age**\n",
        "\n",
        "\n",
        "\n",
        "\n",
        "\n"
      ]
    },
    {
      "cell_type": "code",
      "metadata": {
        "colab": {
          "base_uri": "https://localhost:8080/",
          "height": 323
        },
        "id": "oPDgX-o8_1gg",
        "outputId": "0f3648d0-4016-48d9-cc8c-a259bda704f7"
      },
      "source": [
        "\n",
        "suicides_per_age_grp = []\n",
        "\n",
        "for i in df['age'].unique():\n",
        "    suicides_per_age_grp.append(sum(df[df['age'] == i]['suicides_no']))\n",
        "\n",
        "plt.xticks(rotation=30)\n",
        "sns.barplot(x = df['age'].unique(), y = suicides_per_age_grp)"
      ],
      "execution_count": 74,
      "outputs": [
        {
          "output_type": "execute_result",
          "data": {
            "text/plain": [
              "<matplotlib.axes._subplots.AxesSubplot at 0x7f18b8fd3f90>"
            ]
          },
          "metadata": {
            "tags": []
          },
          "execution_count": 74
        },
        {
          "output_type": "display_data",
          "data": {
            "image/png": "[encoded data removed]",
            "text/plain": [
              "<Figure size 432x288 with 1 Axes>"
            ]
          },
          "metadata": {
            "tags": [],
            "needs_background": "light"
          }
        }
      ]
    },
    {
      "cell_type": "markdown",
      "metadata": {
        "id": "JcoAdwDTAqzF"
      },
      "source": [
        "Suicide vs Sex"
      ]
    },
    {
      "cell_type": "code",
      "metadata": {
        "colab": {
          "base_uri": "https://localhost:8080/",
          "height": 294
        },
        "id": "737lKyHJAau0",
        "outputId": "f63c57fb-1a1c-4352-b44d-71be4cb5ccca"
      },
      "source": [
        "\n",
        "suicides_per_sex = []\n",
        "\n",
        "for i in df['sex'].unique():\n",
        "    suicides_per_sex.append(sum(df[df['sex'] == i]['suicides_no']))\n",
        "\n",
        "sns.barplot(x = df['sex'].unique(), y = suicides_per_sex)"
      ],
      "execution_count": 75,
      "outputs": [
        {
          "output_type": "execute_result",
          "data": {
            "text/plain": [
              "<matplotlib.axes._subplots.AxesSubplot at 0x7f18c279b250>"
            ]
          },
          "metadata": {
            "tags": []
          },
          "execution_count": 75
        },
        {
          "output_type": "display_data",
          "data": {
            "image/png": "[encoded data removed]",
            "text/plain": [
              "<Figure size 432x288 with 1 Axes>"
            ]
          },
          "metadata": {
            "tags": [],
            "needs_background": "light"
          }
        }
      ]
    },
    {
      "cell_type": "markdown",
      "metadata": {
        "id": "vK0MB44LBbMR"
      },
      "source": [
        "Suicide vs Sex and Age"
      ]
    },
    {
      "cell_type": "code",
      "metadata": {
        "colab": {
          "base_uri": "https://localhost:8080/",
          "height": 236
        },
        "id": "qgdUVl2rA3zP",
        "outputId": "6105ab39-e980-4f05-a8e2-fd53b4e5f8a7"
      },
      "source": [
        "\n",
        "sns.catplot(x='sex', y='suicides_no',col='age', data=df, estimator=np.median,height=4, aspect=.7,kind='bar')\n"
      ],
      "execution_count": 76,
      "outputs": [
        {
          "output_type": "execute_result",
          "data": {
            "text/plain": [
              "<seaborn.axisgrid.FacetGrid at 0x7f18b90c4d90>"
            ]
          },
          "metadata": {
            "tags": []
          },
          "execution_count": 76
        },
        {
          "output_type": "display_data",
          "data": {
            "image/png": "[encoded data removed]",
            "text/plain": [
              "<Figure size 1209.6x288 with 6 Axes>"
            ]
          },
          "metadata": {
            "tags": [],
            "needs_background": "light"
          }
        }
      ]
    },
    {
      "cell_type": "markdown",
      "metadata": {
        "id": "sJ1X24HhBiJb"
      },
      "source": [
        "A brief glance indicates that male suicides are higher than female suicides across all age groups."
      ]
    },
    {
      "cell_type": "code",
      "metadata": {
        "colab": {
          "base_uri": "https://localhost:8080/",
          "height": 294
        },
        "id": "I3_RtpjqBH4r",
        "outputId": "561745ee-1b86-4a28-e834-a8c603e7c809"
      },
      "source": [
        "suicides_per_tier = []\n",
        "for w in df['country_tier'].unique():\n",
        "    suicides_per_tier.append(sum(df[df['country_tier'] == w]['suicides_no']))\n",
        "    \n",
        "sns.barplot(x = df['country_tier'].unique(), y = suicides_per_tier)"
      ],
      "execution_count": 79,
      "outputs": [
        {
          "output_type": "execute_result",
          "data": {
            "text/plain": [
              "<matplotlib.axes._subplots.AxesSubplot at 0x7f18b8c30b50>"
            ]
          },
          "metadata": {
            "tags": []
          },
          "execution_count": 79
        },
        {
          "output_type": "display_data",
          "data": {
            "image/png": "[encoded data removed]",
            "text/plain": [
              "<Figure size 432x288 with 1 Axes>"
            ]
          },
          "metadata": {
            "tags": [],
            "needs_background": "light"
          }
        }
      ]
    },
    {
      "cell_type": "markdown",
      "metadata": {
        "id": "0vsSeBk2Bg9f"
      },
      "source": [
        ""
      ]
    },
    {
      "cell_type": "markdown",
      "metadata": {
        "id": "7A-PKX8nNZSm"
      },
      "source": [
        "Due to the non uniform nature of the data, it is not possible to come to a valid conclusion. Hence, we normalise them by comparing the rates across a population of 100k across each subset"
      ]
    },
    {
      "cell_type": "code",
      "metadata": {
        "id": "hGPyN1QONYAS"
      },
      "source": [
        ""
      ],
      "execution_count": null,
      "outputs": []
    }
  ]
}